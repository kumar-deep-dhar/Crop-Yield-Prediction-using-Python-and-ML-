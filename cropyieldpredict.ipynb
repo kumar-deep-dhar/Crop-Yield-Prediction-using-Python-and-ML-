{
 "cells": [
  {
   "cell_type": "code",
   "execution_count": 29,
   "metadata": {},
   "outputs": [],
   "source": [
    "import pandas as pd"
   ]
  },
  {
   "cell_type": "code",
   "execution_count": 30,
   "metadata": {},
   "outputs": [],
   "source": [
    "cp_dataset=pd.read_csv(\"newcropdata.csv\")"
   ]
  },
  {
   "cell_type": "code",
   "execution_count": 31,
   "metadata": {},
   "outputs": [
    {
     "data": {
      "text/html": [
       "<div>\n",
       "<style scoped>\n",
       "    .dataframe tbody tr th:only-of-type {\n",
       "        vertical-align: middle;\n",
       "    }\n",
       "\n",
       "    .dataframe tbody tr th {\n",
       "        vertical-align: top;\n",
       "    }\n",
       "\n",
       "    .dataframe thead th {\n",
       "        text-align: right;\n",
       "    }\n",
       "</style>\n",
       "<table border=\"1\" class=\"dataframe\">\n",
       "  <thead>\n",
       "    <tr style=\"text-align: right;\">\n",
       "      <th></th>\n",
       "      <th>Crop_Year</th>\n",
       "      <th>Area</th>\n",
       "      <th>Yield</th>\n",
       "      <th>Temperature</th>\n",
       "      <th>Precipitaion</th>\n",
       "      <th>Humidity</th>\n",
       "      <th>Soil_type:_chalky</th>\n",
       "      <th>Soil_type:_clay</th>\n",
       "      <th>Crop:_Jowar</th>\n",
       "      <th>Crop:_Wheat</th>\n",
       "      <th>Season:_Kharif</th>\n",
       "      <th>Season:_Rabi</th>\n",
       "    </tr>\n",
       "  </thead>\n",
       "  <tbody>\n",
       "    <tr>\n",
       "      <th>0</th>\n",
       "      <td>1997</td>\n",
       "      <td>598400</td>\n",
       "      <td>217000</td>\n",
       "      <td>24.2430</td>\n",
       "      <td>42.3484</td>\n",
       "      <td>84</td>\n",
       "      <td>0</td>\n",
       "      <td>1</td>\n",
       "      <td>1</td>\n",
       "      <td>0</td>\n",
       "      <td>0</td>\n",
       "      <td>1</td>\n",
       "    </tr>\n",
       "    <tr>\n",
       "      <th>1</th>\n",
       "      <td>1998</td>\n",
       "      <td>453200</td>\n",
       "      <td>227900</td>\n",
       "      <td>23.1000</td>\n",
       "      <td>8.7838</td>\n",
       "      <td>70</td>\n",
       "      <td>0</td>\n",
       "      <td>0</td>\n",
       "      <td>1</td>\n",
       "      <td>0</td>\n",
       "      <td>0</td>\n",
       "      <td>1</td>\n",
       "    </tr>\n",
       "    <tr>\n",
       "      <th>2</th>\n",
       "      <td>1999</td>\n",
       "      <td>498300</td>\n",
       "      <td>190900</td>\n",
       "      <td>22.8118</td>\n",
       "      <td>39.5078</td>\n",
       "      <td>35</td>\n",
       "      <td>0</td>\n",
       "      <td>0</td>\n",
       "      <td>1</td>\n",
       "      <td>0</td>\n",
       "      <td>0</td>\n",
       "      <td>1</td>\n",
       "    </tr>\n",
       "    <tr>\n",
       "      <th>3</th>\n",
       "      <td>2000</td>\n",
       "      <td>518700</td>\n",
       "      <td>160800</td>\n",
       "      <td>23.2746</td>\n",
       "      <td>9.2558</td>\n",
       "      <td>33</td>\n",
       "      <td>0</td>\n",
       "      <td>1</td>\n",
       "      <td>1</td>\n",
       "      <td>0</td>\n",
       "      <td>0</td>\n",
       "      <td>1</td>\n",
       "    </tr>\n",
       "    <tr>\n",
       "      <th>4</th>\n",
       "      <td>2001</td>\n",
       "      <td>528900</td>\n",
       "      <td>175000</td>\n",
       "      <td>23.5674</td>\n",
       "      <td>4.0668</td>\n",
       "      <td>29</td>\n",
       "      <td>0</td>\n",
       "      <td>1</td>\n",
       "      <td>1</td>\n",
       "      <td>0</td>\n",
       "      <td>0</td>\n",
       "      <td>1</td>\n",
       "    </tr>\n",
       "  </tbody>\n",
       "</table>\n",
       "</div>"
      ],
      "text/plain": [
       "   Crop_Year    Area   Yield  Temperature  Precipitaion  Humidity  \\\n",
       "0       1997  598400  217000      24.2430       42.3484        84   \n",
       "1       1998  453200  227900      23.1000        8.7838        70   \n",
       "2       1999  498300  190900      22.8118       39.5078        35   \n",
       "3       2000  518700  160800      23.2746        9.2558        33   \n",
       "4       2001  528900  175000      23.5674        4.0668        29   \n",
       "\n",
       "   Soil_type:_chalky  Soil_type:_clay  Crop:_Jowar  Crop:_Wheat  \\\n",
       "0                  0                1            1            0   \n",
       "1                  0                0            1            0   \n",
       "2                  0                0            1            0   \n",
       "3                  0                1            1            0   \n",
       "4                  0                1            1            0   \n",
       "\n",
       "   Season:_Kharif  Season:_Rabi  \n",
       "0               0             1  \n",
       "1               0             1  \n",
       "2               0             1  \n",
       "3               0             1  \n",
       "4               0             1  "
      ]
     },
     "execution_count": 31,
     "metadata": {},
     "output_type": "execute_result"
    }
   ],
   "source": [
    "cp_dataset.head()"
   ]
  },
  {
   "cell_type": "code",
   "execution_count": 32,
   "metadata": {},
   "outputs": [
    {
     "data": {
      "text/plain": [
       "Index(['Crop_Year', 'Area', 'Yield', 'Temperature', 'Precipitaion', 'Humidity',\n",
       "       'Soil_type:_chalky', 'Soil_type:_clay', 'Crop:_Jowar', 'Crop:_Wheat',\n",
       "       'Season:_Kharif', 'Season:_Rabi'],\n",
       "      dtype='object')"
      ]
     },
     "execution_count": 32,
     "metadata": {},
     "output_type": "execute_result"
    }
   ],
   "source": [
    "cp_dataset.columns"
   ]
  },
  {
   "cell_type": "code",
   "execution_count": 33,
   "metadata": {},
   "outputs": [
    {
     "data": {
      "text/plain": [
       "16140"
      ]
     },
     "execution_count": 33,
     "metadata": {},
     "output_type": "execute_result"
    }
   ],
   "source": [
    "cp_dataset.size\n"
   ]
  },
  {
   "cell_type": "code",
   "execution_count": 34,
   "metadata": {},
   "outputs": [],
   "source": [
    "import seaborn as sns\n",
    "import matplotlib.pyplot as plt"
   ]
  },
  {
   "cell_type": "code",
   "execution_count": 35,
   "metadata": {},
   "outputs": [
    {
     "data": {
      "image/png": "[encoded data removed]",
      "text/plain": [
       "<Figure size 432x288 with 1 Axes>"
      ]
     },
     "metadata": {
      "needs_background": "light"
     },
     "output_type": "display_data"
    }
   ],
   "source": [
    "ax = sns.barplot(x=\"Crop_Year\", y=\"Yield\", data=cp_dataset)"
   ]
  },
  {
   "cell_type": "code",
   "execution_count": 36,
   "metadata": {},
   "outputs": [
    {
     "data": {
      "text/plain": [
       "<AxesSubplot:xlabel='Yield', ylabel='Density'>"
      ]
     },
     "execution_count": 36,
     "metadata": {},
     "output_type": "execute_result"
    },
    {
     "data": {
      "image/png": "[encoded data removed]",
      "text/plain": [
       "<Figure size 432x288 with 1 Axes>"
      ]
     },
     "metadata": {
      "needs_background": "light"
     },
     "output_type": "display_data"
    }
   ],
   "source": [
    "sns.kdeplot(data=cp_dataset, x=\"Yield\")"
   ]
  },
  {
   "cell_type": "code",
   "execution_count": 37,
   "metadata": {},
   "outputs": [
    {
     "data": {
      "text/plain": [
       "<seaborn.axisgrid.JointGrid at 0x2c9757fec40>"
      ]
     },
     "execution_count": 37,
     "metadata": {},
     "output_type": "execute_result"
    },
    {
     "data": {
      "image/png": "[encoded data removed]",
      "text/plain": [
       "<Figure size 432x432 with 3 Axes>"
      ]
     },
     "metadata": {
      "needs_background": "light"
     },
     "output_type": "display_data"
    }
   ],
   "source": [
    "sns.jointplot(data=cp_dataset, x=\"Crop_Year\", y=\"Yield\")"
   ]
  },
  {
   "cell_type": "code",
   "execution_count": 38,
   "metadata": {},
   "outputs": [
    {
     "data": {
      "text/plain": [
       "<seaborn.axisgrid.JointGrid at 0x2c9705fe1f0>"
      ]
     },
     "execution_count": 38,
     "metadata": {},
     "output_type": "execute_result"
    },
    {
     "data": {
      "image/png": "[encoded data removed]",
      "text/plain": [
       "<Figure size 432x432 with 3 Axes>"
      ]
     },
     "metadata": {
      "needs_background": "light"
     },
     "output_type": "display_data"
    }
   ],
   "source": [
    "sns.jointplot(data=cp_dataset, x=\"Temperature\", y=\"Yield\")"
   ]
  },
  {
   "cell_type": "code",
   "execution_count": 39,
   "metadata": {},
   "outputs": [
    {
     "data": {
      "image/png": "[encoded data removed]",
      "text/plain": [
       "<Figure size 432x288 with 1 Axes>"
      ]
     },
     "metadata": {
      "needs_background": "light"
     },
     "output_type": "display_data"
    },
    {
     "data": {
      "text/plain": [
       "<Figure size 432x288 with 0 Axes>"
      ]
     },
     "metadata": {},
     "output_type": "display_data"
    }
   ],
   "source": [
    "sns.countplot(x='Crop:_Jowar',data=cp_dataset,palette='hls')\n",
    "plt.show()\n",
    "plt.savefig('count_plot')"
   ]
  },
  {
   "cell_type": "code",
   "execution_count": 40,
   "metadata": {},
   "outputs": [
    {
     "data": {
      "image/png": "[encoded data removed]",
      "text/plain": [
       "<Figure size 432x288 with 2 Axes>"
      ]
     },
     "metadata": {
      "needs_background": "light"
     },
     "output_type": "display_data"
    }
   ],
   "source": [
    "hm = sns.heatmap(data = cp_dataset)\n",
    "plt.show()"
   ]
  },
  {
   "cell_type": "code",
   "execution_count": 41,
   "metadata": {},
   "outputs": [],
   "source": [
    "from sklearn.utils import shuffle\n",
    "cp_dataset =shuffle(cp_dataset,random_state=42)\n",
    "from sklearn.model_selection import train_test_split"
   ]
  },
  {
   "cell_type": "code",
   "execution_count": 57,
   "metadata": {},
   "outputs": [
    {
     "data": {
      "text/plain": [
       "((1076, 11), (269, 11), (1076, 1), (269, 1))"
      ]
     },
     "execution_count": 57,
     "metadata": {},
     "output_type": "execute_result"
    }
   ],
   "source": [
    "X = cp_dataset.loc[:, cp_dataset.columns != \"Yield\"]\n",
    "y = cp_dataset.loc[:, cp_dataset.columns == \"Yield\"]\n",
    "from imblearn.over_sampling import SMOTE\n",
    "os = SMOTE(random_state=0)\n",
    "X_train, X_test, y_train, y_test = train_test_split(X, y, test_size=0.20, random_state=0)\n",
    "columns = X_train.columns\n",
    "X_train.shape, X_test.shape, y_train.shape, y_test.shape"
   ]
  },
  {
   "cell_type": "code",
   "execution_count": 69,
   "metadata": {},
   "outputs": [],
   "source": [
    "from sklearn import metrics"
   ]
  },
  {
   "cell_type": "code",
   "execution_count": 70,
   "metadata": {},
   "outputs": [
    {
     "data": {
      "text/plain": [
       "LinearRegression()"
      ]
     },
     "execution_count": 70,
     "metadata": {},
     "output_type": "execute_result"
    }
   ],
   "source": [
    "from sklearn.linear_model import LinearRegression\n",
    "regressor = LinearRegression()\n",
    "regressor.fit(X_train,y_train)"
   ]
  },
  {
   "cell_type": "code",
   "execution_count": 71,
   "metadata": {},
   "outputs": [],
   "source": [
    "predicted_yield = regressor.predict(X_test)"
   ]
  },
  {
   "cell_type": "code",
   "execution_count": 72,
   "metadata": {},
   "outputs": [
    {
     "name": "stdout",
     "output_type": "stream",
     "text": [
      "Mean sAbsolute Error: 19317.268871420747\n",
      "Mean Squared Error: 874311654.6717197\n",
      "Root Mean Squared Error: 29568.76146665125\n"
     ]
    }
   ],
   "source": [
    "print('Mean sAbsolute Error:', metrics.mean_absolute_error( y_test, predicted_yield))\n",
    "print('Mean Squared Error:', metrics.mean_squared_error(y_test,predicted_yield)) \n",
    "print('Root Mean Squared Error:', np.sqrt(metrics.mean_squared_error(y_test, predicted_yield)))"
   ]
  },
  {
   "cell_type": "code",
   "execution_count": 73,
   "metadata": {},
   "outputs": [
    {
     "data": {
      "text/plain": [
       "Index(['Crop_Year', 'Area', 'Yield', 'Temperature', 'Precipitaion', 'Humidity',\n",
       "       'Soil_type:_chalky', 'Soil_type:_clay', 'Crop:_Jowar', 'Crop:_Wheat',\n",
       "       'Season:_Kharif', 'Season:_Rabi'],\n",
       "      dtype='object')"
      ]
     },
     "execution_count": 73,
     "metadata": {},
     "output_type": "execute_result"
    }
   ],
   "source": [
    "cp_dataset.columns"
   ]
  },
  {
   "cell_type": "code",
   "execution_count": 74,
   "metadata": {},
   "outputs": [
    {
     "data": {
      "text/html": [
       "<div>\n",
       "<style scoped>\n",
       "    .dataframe tbody tr th:only-of-type {\n",
       "        vertical-align: middle;\n",
       "    }\n",
       "\n",
       "    .dataframe tbody tr th {\n",
       "        vertical-align: top;\n",
       "    }\n",
       "\n",
       "    .dataframe thead th {\n",
       "        text-align: right;\n",
       "    }\n",
       "</style>\n",
       "<table border=\"1\" class=\"dataframe\">\n",
       "  <thead>\n",
       "    <tr style=\"text-align: right;\">\n",
       "      <th></th>\n",
       "      <th>Crop_Year</th>\n",
       "      <th>Area</th>\n",
       "      <th>Yield</th>\n",
       "      <th>Temperature</th>\n",
       "      <th>Precipitaion</th>\n",
       "      <th>Humidity</th>\n",
       "      <th>Soil_type:_chalky</th>\n",
       "      <th>Soil_type:_clay</th>\n",
       "      <th>Crop:_Jowar</th>\n",
       "      <th>Crop:_Wheat</th>\n",
       "      <th>Season:_Kharif</th>\n",
       "      <th>Season:_Rabi</th>\n",
       "    </tr>\n",
       "  </thead>\n",
       "  <tbody>\n",
       "    <tr>\n",
       "      <th>286</th>\n",
       "      <td>2002</td>\n",
       "      <td>10100</td>\n",
       "      <td>5300</td>\n",
       "      <td>23.6562</td>\n",
       "      <td>27.7342</td>\n",
       "      <td>36</td>\n",
       "      <td>0</td>\n",
       "      <td>0</td>\n",
       "      <td>1</td>\n",
       "      <td>0</td>\n",
       "      <td>0</td>\n",
       "      <td>1</td>\n",
       "    </tr>\n",
       "    <tr>\n",
       "      <th>261</th>\n",
       "      <td>2009</td>\n",
       "      <td>29600</td>\n",
       "      <td>21900</td>\n",
       "      <td>23.6160</td>\n",
       "      <td>30.1252</td>\n",
       "      <td>53</td>\n",
       "      <td>0</td>\n",
       "      <td>0</td>\n",
       "      <td>1</td>\n",
       "      <td>0</td>\n",
       "      <td>0</td>\n",
       "      <td>1</td>\n",
       "    </tr>\n",
       "    <tr>\n",
       "      <th>1222</th>\n",
       "      <td>2009</td>\n",
       "      <td>59600</td>\n",
       "      <td>91800</td>\n",
       "      <td>24.1010</td>\n",
       "      <td>23.3434</td>\n",
       "      <td>79</td>\n",
       "      <td>0</td>\n",
       "      <td>0</td>\n",
       "      <td>0</td>\n",
       "      <td>1</td>\n",
       "      <td>0</td>\n",
       "      <td>0</td>\n",
       "    </tr>\n",
       "    <tr>\n",
       "      <th>210</th>\n",
       "      <td>2009</td>\n",
       "      <td>12800</td>\n",
       "      <td>16900</td>\n",
       "      <td>24.0086</td>\n",
       "      <td>40.8440</td>\n",
       "      <td>53</td>\n",
       "      <td>0</td>\n",
       "      <td>1</td>\n",
       "      <td>1</td>\n",
       "      <td>0</td>\n",
       "      <td>0</td>\n",
       "      <td>1</td>\n",
       "    </tr>\n",
       "    <tr>\n",
       "      <th>221</th>\n",
       "      <td>2002</td>\n",
       "      <td>29100</td>\n",
       "      <td>20500</td>\n",
       "      <td>24.3446</td>\n",
       "      <td>47.6166</td>\n",
       "      <td>35</td>\n",
       "      <td>0</td>\n",
       "      <td>0</td>\n",
       "      <td>1</td>\n",
       "      <td>0</td>\n",
       "      <td>0</td>\n",
       "      <td>1</td>\n",
       "    </tr>\n",
       "    <tr>\n",
       "      <th>787</th>\n",
       "      <td>2012</td>\n",
       "      <td>6300</td>\n",
       "      <td>200</td>\n",
       "      <td>25.8100</td>\n",
       "      <td>118.9130</td>\n",
       "      <td>62</td>\n",
       "      <td>0</td>\n",
       "      <td>1</td>\n",
       "      <td>0</td>\n",
       "      <td>0</td>\n",
       "      <td>1</td>\n",
       "      <td>0</td>\n",
       "    </tr>\n",
       "    <tr>\n",
       "      <th>818</th>\n",
       "      <td>2006</td>\n",
       "      <td>800</td>\n",
       "      <td>400</td>\n",
       "      <td>26.0000</td>\n",
       "      <td>365.8350</td>\n",
       "      <td>58</td>\n",
       "      <td>0</td>\n",
       "      <td>0</td>\n",
       "      <td>0</td>\n",
       "      <td>0</td>\n",
       "      <td>1</td>\n",
       "      <td>0</td>\n",
       "    </tr>\n",
       "    <tr>\n",
       "      <th>163</th>\n",
       "      <td>2013</td>\n",
       "      <td>10100</td>\n",
       "      <td>11200</td>\n",
       "      <td>24.7466</td>\n",
       "      <td>28.6832</td>\n",
       "      <td>43</td>\n",
       "      <td>0</td>\n",
       "      <td>0</td>\n",
       "      <td>1</td>\n",
       "      <td>0</td>\n",
       "      <td>0</td>\n",
       "      <td>1</td>\n",
       "    </tr>\n",
       "    <tr>\n",
       "      <th>1255</th>\n",
       "      <td>2006</td>\n",
       "      <td>43100</td>\n",
       "      <td>78100</td>\n",
       "      <td>24.7168</td>\n",
       "      <td>36.1714</td>\n",
       "      <td>44</td>\n",
       "      <td>0</td>\n",
       "      <td>0</td>\n",
       "      <td>0</td>\n",
       "      <td>1</td>\n",
       "      <td>0</td>\n",
       "      <td>0</td>\n",
       "    </tr>\n",
       "    <tr>\n",
       "      <th>76</th>\n",
       "      <td>1999</td>\n",
       "      <td>1400</td>\n",
       "      <td>600</td>\n",
       "      <td>23.6512</td>\n",
       "      <td>23.4222</td>\n",
       "      <td>41</td>\n",
       "      <td>0</td>\n",
       "      <td>0</td>\n",
       "      <td>1</td>\n",
       "      <td>0</td>\n",
       "      <td>0</td>\n",
       "      <td>1</td>\n",
       "    </tr>\n",
       "    <tr>\n",
       "      <th>589</th>\n",
       "      <td>2008</td>\n",
       "      <td>33000</td>\n",
       "      <td>33800</td>\n",
       "      <td>28.4200</td>\n",
       "      <td>321.2080</td>\n",
       "      <td>52</td>\n",
       "      <td>0</td>\n",
       "      <td>0</td>\n",
       "      <td>0</td>\n",
       "      <td>0</td>\n",
       "      <td>1</td>\n",
       "      <td>0</td>\n",
       "    </tr>\n",
       "    <tr>\n",
       "      <th>175</th>\n",
       "      <td>2008</td>\n",
       "      <td>34500</td>\n",
       "      <td>48400</td>\n",
       "      <td>23.9854</td>\n",
       "      <td>7.3670</td>\n",
       "      <td>58</td>\n",
       "      <td>0</td>\n",
       "      <td>0</td>\n",
       "      <td>1</td>\n",
       "      <td>0</td>\n",
       "      <td>0</td>\n",
       "      <td>1</td>\n",
       "    </tr>\n",
       "    <tr>\n",
       "      <th>910</th>\n",
       "      <td>2009</td>\n",
       "      <td>67000</td>\n",
       "      <td>91900</td>\n",
       "      <td>23.7560</td>\n",
       "      <td>43.2040</td>\n",
       "      <td>20</td>\n",
       "      <td>0</td>\n",
       "      <td>1</td>\n",
       "      <td>0</td>\n",
       "      <td>1</td>\n",
       "      <td>0</td>\n",
       "      <td>0</td>\n",
       "    </tr>\n",
       "    <tr>\n",
       "      <th>673</th>\n",
       "      <td>2006</td>\n",
       "      <td>258500</td>\n",
       "      <td>187300</td>\n",
       "      <td>26.0200</td>\n",
       "      <td>630.7690</td>\n",
       "      <td>56</td>\n",
       "      <td>0</td>\n",
       "      <td>0</td>\n",
       "      <td>0</td>\n",
       "      <td>0</td>\n",
       "      <td>1</td>\n",
       "      <td>0</td>\n",
       "    </tr>\n",
       "    <tr>\n",
       "      <th>430</th>\n",
       "      <td>2013</td>\n",
       "      <td>400</td>\n",
       "      <td>300</td>\n",
       "      <td>22.7960</td>\n",
       "      <td>11.9104</td>\n",
       "      <td>85</td>\n",
       "      <td>0</td>\n",
       "      <td>0</td>\n",
       "      <td>1</td>\n",
       "      <td>0</td>\n",
       "      <td>0</td>\n",
       "      <td>1</td>\n",
       "    </tr>\n",
       "    <tr>\n",
       "      <th>43</th>\n",
       "      <td>2000</td>\n",
       "      <td>202900</td>\n",
       "      <td>117300</td>\n",
       "      <td>23.3480</td>\n",
       "      <td>8.5630</td>\n",
       "      <td>20</td>\n",
       "      <td>0</td>\n",
       "      <td>1</td>\n",
       "      <td>1</td>\n",
       "      <td>0</td>\n",
       "      <td>0</td>\n",
       "      <td>1</td>\n",
       "    </tr>\n",
       "    <tr>\n",
       "      <th>353</th>\n",
       "      <td>2001</td>\n",
       "      <td>159500</td>\n",
       "      <td>103100</td>\n",
       "      <td>24.4466</td>\n",
       "      <td>47.7694</td>\n",
       "      <td>48</td>\n",
       "      <td>0</td>\n",
       "      <td>0</td>\n",
       "      <td>1</td>\n",
       "      <td>0</td>\n",
       "      <td>0</td>\n",
       "      <td>1</td>\n",
       "    </tr>\n",
       "    <tr>\n",
       "      <th>115</th>\n",
       "      <td>2014</td>\n",
       "      <td>5900</td>\n",
       "      <td>2600</td>\n",
       "      <td>24.5462</td>\n",
       "      <td>38.6634</td>\n",
       "      <td>51</td>\n",
       "      <td>0</td>\n",
       "      <td>0</td>\n",
       "      <td>1</td>\n",
       "      <td>0</td>\n",
       "      <td>0</td>\n",
       "      <td>1</td>\n",
       "    </tr>\n",
       "    <tr>\n",
       "      <th>1203</th>\n",
       "      <td>2008</td>\n",
       "      <td>34500</td>\n",
       "      <td>56100</td>\n",
       "      <td>24.4478</td>\n",
       "      <td>43.6734</td>\n",
       "      <td>39</td>\n",
       "      <td>0</td>\n",
       "      <td>1</td>\n",
       "      <td>0</td>\n",
       "      <td>1</td>\n",
       "      <td>0</td>\n",
       "      <td>0</td>\n",
       "    </tr>\n",
       "    <tr>\n",
       "      <th>374</th>\n",
       "      <td>2006</td>\n",
       "      <td>144100</td>\n",
       "      <td>115800</td>\n",
       "      <td>25.1142</td>\n",
       "      <td>8.0738</td>\n",
       "      <td>35</td>\n",
       "      <td>0</td>\n",
       "      <td>0</td>\n",
       "      <td>1</td>\n",
       "      <td>0</td>\n",
       "      <td>0</td>\n",
       "      <td>1</td>\n",
       "    </tr>\n",
       "  </tbody>\n",
       "</table>\n",
       "</div>"
      ],
      "text/plain": [
       "      Crop_Year    Area   Yield  Temperature  Precipitaion  Humidity  \\\n",
       "286        2002   10100    5300      23.6562       27.7342        36   \n",
       "261        2009   29600   21900      23.6160       30.1252        53   \n",
       "1222       2009   59600   91800      24.1010       23.3434        79   \n",
       "210        2009   12800   16900      24.0086       40.8440        53   \n",
       "221        2002   29100   20500      24.3446       47.6166        35   \n",
       "787        2012    6300     200      25.8100      118.9130        62   \n",
       "818        2006     800     400      26.0000      365.8350        58   \n",
       "163        2013   10100   11200      24.7466       28.6832        43   \n",
       "1255       2006   43100   78100      24.7168       36.1714        44   \n",
       "76         1999    1400     600      23.6512       23.4222        41   \n",
       "589        2008   33000   33800      28.4200      321.2080        52   \n",
       "175        2008   34500   48400      23.9854        7.3670        58   \n",
       "910        2009   67000   91900      23.7560       43.2040        20   \n",
       "673        2006  258500  187300      26.0200      630.7690        56   \n",
       "430        2013     400     300      22.7960       11.9104        85   \n",
       "43         2000  202900  117300      23.3480        8.5630        20   \n",
       "353        2001  159500  103100      24.4466       47.7694        48   \n",
       "115        2014    5900    2600      24.5462       38.6634        51   \n",
       "1203       2008   34500   56100      24.4478       43.6734        39   \n",
       "374        2006  144100  115800      25.1142        8.0738        35   \n",
       "\n",
       "      Soil_type:_chalky  Soil_type:_clay  Crop:_Jowar  Crop:_Wheat  \\\n",
       "286                   0                0            1            0   \n",
       "261                   0                0            1            0   \n",
       "1222                  0                0            0            1   \n",
       "210                   0                1            1            0   \n",
       "221                   0                0            1            0   \n",
       "787                   0                1            0            0   \n",
       "818                   0                0            0            0   \n",
       "163                   0                0            1            0   \n",
       "1255                  0                0            0            1   \n",
       "76                    0                0            1            0   \n",
       "589                   0                0            0            0   \n",
       "175                   0                0            1            0   \n",
       "910                   0                1            0            1   \n",
       "673                   0                0            0            0   \n",
       "430                   0                0            1            0   \n",
       "43                    0                1            1            0   \n",
       "353                   0                0            1            0   \n",
       "115                   0                0            1            0   \n",
       "1203                  0                1            0            1   \n",
       "374                   0                0            1            0   \n",
       "\n",
       "      Season:_Kharif  Season:_Rabi  \n",
       "286                0             1  \n",
       "261                0             1  \n",
       "1222               0             0  \n",
       "210                0             1  \n",
       "221                0             1  \n",
       "787                1             0  \n",
       "818                1             0  \n",
       "163                0             1  \n",
       "1255               0             0  \n",
       "76                 0             1  \n",
       "589                1             0  \n",
       "175                0             1  \n",
       "910                0             0  \n",
       "673                1             0  \n",
       "430                0             1  \n",
       "43                 0             1  \n",
       "353                0             1  \n",
       "115                0             1  \n",
       "1203               0             0  \n",
       "374                0             1  "
      ]
     },
     "execution_count": 74,
     "metadata": {},
     "output_type": "execute_result"
    }
   ],
   "source": [
    "cp_dataset.head(20)"
   ]
  },
  {
   "cell_type": "code",
   "execution_count": 75,
   "metadata": {
    "scrolled": true
   },
   "outputs": [
    {
     "name": "stdout",
     "output_type": "stream",
     "text": [
      "Predicted crop yield for given set of data is: [[15320.28245057]]\n"
     ]
    }
   ],
   "source": [
    "predicted_yield=regressor.predict([[2002,29100,24.3446,47.6166,35,0,0,1,0,0,1]])\n",
    "print(\"Predicted crop yield for given set of data is:\",predicted_yield)"
   ]
  },
  {
   "cell_type": "code",
   "execution_count": 76,
   "metadata": {},
   "outputs": [
    {
     "name": "stdout",
     "output_type": "stream",
     "text": [
      "Predicted crop yield for given set of data is: [[10156.05167624]]\n"
     ]
    }
   ],
   "source": [
    "predicted_yield=regressor.predict([[2014,5900,24.5462,38.6634,51,0,0,1,0,0,1]])\n",
    "print(\"Predicted crop yield for given set of data is:\",predicted_yield)"
   ]
  },
  {
   "cell_type": "code",
   "execution_count": null,
   "metadata": {},
   "outputs": [
    {
     "name": "stderr",
     "output_type": "stream",
     "text": [
      "C:\\Users\\Kumar Deep\\anaconda\\lib\\site-packages\\sklearn\\utils\\validation.py:63: FutureWarning: Arrays of bytes/strings is being converted to decimal numbers if dtype='numeric'. This behavior is deprecated in 0.24 and will be removed in 1.1 (renaming of 0.26). Please convert your data to numeric values explicitly instead.\n",
      "  return f(*args, **kwargs)\n"
     ]
    }
   ],
   "source": [
    "from tkinter import *\n",
    "from tkinter import ttk\n",
    "\n",
    "\n",
    "root= Tk()\n",
    "root.geometry(\"750x750\")\n",
    "root.title(\"Crop Yield Predictor\")\n",
    "\n",
    "def values():\n",
    "    global new_year\n",
    "    global new_area\n",
    "    global new_temperature\n",
    "    global new_precipitation\n",
    "    global new_humidity\n",
    "    global new_soilchalky\n",
    "    global new_soilclay\n",
    "    global new_bajra\n",
    "    global new_wheat\n",
    "    global new_seasonrabi\n",
    "    global new_seasonkharif\n",
    "    \n",
    "    new_year=year_enter.get()\n",
    "    new_area=area_enter.get()\n",
    "    new_temperature=temperature_enter.get()\n",
    "    new_precipitation=precipitation_enter.get()\n",
    "    new_humidity=humidity_enter.get()\n",
    "    new_soilchalky=chalky_enter.get()\n",
    "    new_soilclay=clay_enter.get()\n",
    "    new_bajra=bajra_enter.get()\n",
    "    new_wheat=wheat_enter.get()\n",
    "    new_seasonrabi=rabi_enter.get()\n",
    "    new_seasonkharif=kharif_enter.get()\n",
    "\n",
    "   \n",
    "    predicted_yield=('Predicted Yield is :',regressor.predict([[new_year,new_area,new_temperature,new_precipitation,new_humidity,new_soilchalky,new_soilclay,new_bajra,new_wheat,new_seasonrabi,new_seasonkharif]]),\"Kg\")\n",
    "    label_prediction=Label(root,text=predicted_yield,bg='Red',font=(\"new roman\",17,\"bold\"))\n",
    "    label_prediction.grid(row=15,column=2)\n",
    "    \n",
    "\n",
    "\n",
    "\n",
    "year=Label(root,text=\"Enter Year\", font=(\"new roman\",17,\"bold\") ,fg=\"black\").grid(row=1,column=0)\n",
    "year_enter= ttk.Combobox(root, width=\"10\", font=(\"new roman\",10,\"bold\"),value=['1999','2000','2001','2002','2003','2004','2005','2006','2007','2008','2009','2010','2011','2012','2013','2014','2015','2016','2017','2018','2019','2020','2021'])\n",
    "year_enter.grid(row=1,column=3)\n",
    "area=Label(root,text=\"Enter Area\", font=(\"new roman\",17,\"bold\"),fg=\"black\").grid(row=2,column=0)\n",
    "area_enter= Entry(root, font=(\"new roman\",10),width=\"13\", fg=\"black\")\n",
    "area_enter.grid(row=2,column=3)\n",
    "temperature=Label(root,text=\"Enter Temperature\", font=(\"new roman\",17,\"bold\"),fg=\"black\").grid(row=3,column=0)\n",
    "temperature_enter= Entry(root, font=(\"new roman\",10),width='13',fg=\"black\")\n",
    "\n",
    "temperature_enter.grid(row=3,column=3)\n",
    "precipitation=Label(root,text=\"Enter Precipition\", font=(\"new roman\",17,\"bold\"),fg=\"black\").grid(row=4,column=0)\n",
    "precipitation_enter= Entry(root, font=(\"new roman\",10),width='13',\n",
    "                  fg=\"black\")\n",
    "precipitation_enter.grid(row=4,column=3)\n",
    "humidity=Label(root,text=\"Enter Humidity\", font=(\"new roman\",17,\"bold\"),fg=\"black\").grid(row=5,column=0)\n",
    "humidity_enter= Entry(root, font=(\"new roman\",10),width='13',fg=\"black\")\n",
    "humidity_enter.grid(row=5,column=3)\n",
    "clay=Label(root,text=\"Is Soil:Clay?\", font=(\"new roman\",17,\"bold\"),fg=\"black\").grid(row=6,column=0)\n",
    "clay_enter= ttk.Combobox(root, width=\"10\", font=(\"new roman\",10,\"bold\"),value=['0','1'])\n",
    "clay_enter.grid(row=6,column=3)\n",
    "chalky=Label(root,text=\"Is Soil:Chalky?\", font=(\"new roman\",17,\"bold\"),fg=\"black\").grid(row=7,column=0)\n",
    "chalky_enter=  ttk.Combobox(root, width=\"10\", font=(\"new roman\",10,\"bold\"),value=['0','1'])\n",
    "chalky_enter.grid(row=7,column=3)\n",
    "bajra=Label(root,text=\"Is Crop:Bajra?\", font=(\"new roman\",17,\"bold\"),fg=\"black\").grid(row=8,column=0)\n",
    "bajra_enter=  ttk.Combobox(root, width=\"10\", font=(\"new roman\",10,\"bold\"),value=['0','1'])\n",
    "bajra_enter.grid(row=8,column=3)\n",
    "wheat=Label(root,text=\"Is Crop:Wheat?\", font=(\"new roman\",17,\"bold\"), fg=\"black\").grid(row=9,column=0)\n",
    "wheat_enter=  ttk.Combobox(root, width=\"10\", font=(\"new roman\",10,\"bold\"),value=['0','1'])\n",
    "wheat_enter.grid(row=9,column=3)\n",
    "rabi=Label(root,text=\"Is Season:Rabi?\", font=(\"new roman\",17,\"bold\"),fg=\"black\").grid(row=10,column=0)\n",
    "rabi_enter=ttk.Combobox (root, width=\"10\", font=(\"new roman\",10,\"bold\"),value=['0','1'])\n",
    "rabi_enter.grid(row=10,column=3)\n",
    "kharif=Label(root,text=\"Is Season:Kharif?\", font=(\"new roman\",17,\"bold\"), fg=\"black\").grid(row=11,column=0)\n",
    "kharif_enter=  ttk.Combobox(root, width=\"10\", font=(\"new roman\",10,\"bold\"),value=['0','1'])\n",
    "kharif_enter.grid(row=11,column=3) \n",
    "\n",
    "Predict= Button(root, text=\"Predict Now\", relief=SUNKEN,activebackground=\"red\",width=10,height=2,command=values).grid(row=14,column=2)\n",
    "\n",
    "root.mainloop()"
   ]
  },
  {
   "cell_type": "code",
   "execution_count": null,
   "metadata": {},
   "outputs": [],
   "source": []
  }
 ],
 "metadata": {
  "kernelspec": {
   "display_name": "Python 3",
   "language": "python",
   "name": "python3"
  },
  "language_info": {
   "codemirror_mode": {
    "name": "ipython",
    "version": 3
   },
   "file_extension": ".py",
   "mimetype": "text/x-python",
   "name": "python",
   "nbconvert_exporter": "python",
   "pygments_lexer": "ipython3",
   "version": "3.8.8"
  }
 },
 "nbformat": 4,
 "nbformat_minor": 4
}
